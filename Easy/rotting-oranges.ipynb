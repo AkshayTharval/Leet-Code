{
 "cells": [
  {
   "cell_type": "code",
   "execution_count": 42,
   "metadata": {},
   "outputs": [],
   "source": [
    "# def orangesRotting(grid):\n",
    "#     \"\"\"\n",
    "#     :type grid: List[List[int]]\n",
    "#     :rtype: int\n",
    "#     \"\"\"\n",
    "#     mins = 0\n",
    "#     flat_list = [item for sublist in grid for item in sublist]\n",
    "\n",
    "#     if 2 not in flat_list:\n",
    "#         return -1\n",
    "\n",
    "#     i = 0\n",
    "#     j = 0\n",
    "\n",
    "#     checked = []\n",
    "\n",
    "#     def check(m,n):\n",
    "#         if (m,n) not in checked and grid[m][n] != 2:\n",
    "#             grid[m][n] = 2\n",
    "#             return True\n",
    "#         else:\n",
    "#             return False\n",
    "\n",
    "#     while (i <= len(grid) and j <= len(grid[0])):\n",
    "        \n",
    "#         if i> 0 and j>0:\n",
    "#             print((i, j))\n",
    "#             _0 = check(i,j)\n",
    "#         else:\n",
    "#             _0 = False\n",
    "        \n",
    "#         if j+1 <= len(grid[0])-1:\n",
    "#             print((i, j+1))\n",
    "#             _1 = check(i, j+1)\n",
    "#         else:\n",
    "#             _1 = False\n",
    "            \n",
    "#         if i+1 <= len(grid)-1:\n",
    "#             print((i+1, j))\n",
    "#             _2 = check(i+1, j)\n",
    "#         else:\n",
    "#             _2=False\n",
    "        \n",
    "#         if i > 0:\n",
    "#             print((i-1, j))\n",
    "#             _3 = check(i-1, j)\n",
    "#         else:\n",
    "#             _3 = False\n",
    "        \n",
    "#         if j > 0:\n",
    "#             print((i, j-1))\n",
    "#             _4 = check(i, j-1)\n",
    "#         else:\n",
    "#             _4 = False\n",
    "        \n",
    "        \n",
    "#         checked.append((i, j+1))\n",
    "#         checked.append((i+1, j))\n",
    "\n",
    "#         if _0 or _1 or _2 or _3 or _4:\n",
    "#             mins+=1\n",
    "#         print(((i,j),mins))\n",
    "        \n",
    "#         i+=1\n",
    "#         j+=1\n",
    "\n",
    "#     return mins"
   ]
  },
  {
   "cell_type": "code",
   "execution_count": 58,
   "metadata": {},
   "outputs": [],
   "source": [
    "import collections\n",
    "def orangesRotting(grid):\n",
    "    \"\"\"\n",
    "    :type grid: List[List[int]]\n",
    "    :rtype: int\n",
    "    \"\"\"\n",
    "\n",
    "    i, j = len(grid), len(grid[0])\n",
    "    queue = collections.deque()\n",
    "    for r, row in enumerate(grid):\n",
    "        for c,col in enumerate(row):\n",
    "            if col == 2:\n",
    "                queue.append((r, c, 0))\n",
    "\n",
    "\n",
    "\n",
    "    def check(r, c):\n",
    "        for nr, nc in ((r-1,c),(r,c-1),(r+1,c),(r,c+1)):\n",
    "            if 0 <= nr < i and 0 <= nc < j:\n",
    "                yield nr, nc\n",
    "\n",
    "    mins = 0\n",
    "    while queue:\n",
    "        r,c,mins = queue.popleft()\n",
    "\n",
    "        for m,n in check(r,c):\n",
    "            if grid[m][n] == 1:\n",
    "                grid[m][n] = 2\n",
    "                queue.append((m,n,mins+1))\n",
    "\n",
    "    if 1 in [item for sublist in grid for item in sublist]:\n",
    "        return -1\n",
    "\n",
    "    return mins\n",
    "\n",
    "\n",
    "\n",
    "\n",
    "\n",
    "\n",
    "\n",
    "\n",
    "\n"
   ]
  },
  {
   "cell_type": "code",
   "execution_count": 59,
   "metadata": {},
   "outputs": [
    {
     "data": {
      "text/plain": [
       "4"
      ]
     },
     "execution_count": 59,
     "metadata": {},
     "output_type": "execute_result"
    }
   ],
   "source": [
    "orangesRotting([[2,1,1],[1,1,0],[0,1,1]])"
   ]
  },
  {
   "cell_type": "code",
   "execution_count": null,
   "metadata": {},
   "outputs": [],
   "source": []
  },
  {
   "cell_type": "code",
   "execution_count": null,
   "metadata": {},
   "outputs": [],
   "source": []
  },
  {
   "cell_type": "code",
   "execution_count": null,
   "metadata": {},
   "outputs": [],
   "source": []
  },
  {
   "cell_type": "code",
   "execution_count": null,
   "metadata": {},
   "outputs": [],
   "source": []
  }
 ],
 "metadata": {
  "kernelspec": {
   "display_name": "Python (tensorflow_gpu)",
   "language": "python",
   "name": "myenv"
  },
  "language_info": {
   "codemirror_mode": {
    "name": "ipython",
    "version": 3
   },
   "file_extension": ".py",
   "mimetype": "text/x-python",
   "name": "python",
   "nbconvert_exporter": "python",
   "pygments_lexer": "ipython3",
   "version": "3.6.8"
  }
 },
 "nbformat": 4,
 "nbformat_minor": 2
}
