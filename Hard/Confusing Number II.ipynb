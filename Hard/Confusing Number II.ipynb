{
 "cells": [
  {
   "cell_type": "code",
   "execution_count": 122,
   "metadata": {},
   "outputs": [],
   "source": [
    "def _getNumberList(num):\n",
    "    output = []\n",
    "    while num:\n",
    "        output.append(num % 10)\n",
    "        num //= 10\n",
    "    return output\n",
    "\n",
    "def _getFlippedNumber(num_list, upside_down_numbers):\n",
    "    output = []\n",
    "    for i in num_list:\n",
    "        output.append(upside_down_numbers[i])\n",
    "\n",
    "    return int(''.join(str(o) for o in output))\n",
    "\n",
    "def confusingNumberII(N):\n",
    "    \"\"\"\n",
    "    :type N: int\n",
    "    :rtype: int\n",
    "    \"\"\"\n",
    "    upside_down_numbers = {0:0,1:1,6:9,8:8,9:6}\n",
    "\n",
    "    count = 0\n",
    "\n",
    "    for i in range(1, N+1):\n",
    "        number_list = _getNumberList(i)\n",
    "        flag = 0\n",
    "        for n in number_list:\n",
    "            if n in upside_down_numbers:\n",
    "                continue\n",
    "            else:\n",
    "                flag=1\n",
    "                break\n",
    "        if flag == 0:\n",
    "            flipped_num = _getFlippedNumber(number_list, upside_down_numbers)\n",
    "            if i != flipped_num:\n",
    "                count += 1\n",
    "\n",
    "    return count\n",
    "\n",
    "# Include dynamic programming in future"
   ]
  },
  {
   "cell_type": "code",
   "execution_count": null,
   "metadata": {},
   "outputs": [],
   "source": []
  },
  {
   "cell_type": "code",
   "execution_count": null,
   "metadata": {},
   "outputs": [],
   "source": []
  },
  {
   "cell_type": "code",
   "execution_count": 124,
   "metadata": {},
   "outputs": [
    {
     "data": {
      "text/plain": [
       "30956"
      ]
     },
     "execution_count": 124,
     "metadata": {},
     "output_type": "execute_result"
    }
   ],
   "source": [
    "confusingNumberII(1999909)"
   ]
  },
  {
   "cell_type": "code",
   "execution_count": null,
   "metadata": {},
   "outputs": [],
   "source": []
  },
  {
   "cell_type": "code",
   "execution_count": null,
   "metadata": {},
   "outputs": [],
   "source": []
  },
  {
   "cell_type": "code",
   "execution_count": null,
   "metadata": {},
   "outputs": [],
   "source": []
  },
  {
   "cell_type": "code",
   "execution_count": null,
   "metadata": {},
   "outputs": [],
   "source": []
  }
 ],
 "metadata": {
  "kernelspec": {
   "display_name": "Python 3",
   "language": "python",
   "name": "python3"
  },
  "language_info": {
   "codemirror_mode": {
    "name": "ipython",
    "version": 3
   },
   "file_extension": ".py",
   "mimetype": "text/x-python",
   "name": "python",
   "nbconvert_exporter": "python",
   "pygments_lexer": "ipython3",
   "version": "3.6.8"
  }
 },
 "nbformat": 4,
 "nbformat_minor": 2
}
