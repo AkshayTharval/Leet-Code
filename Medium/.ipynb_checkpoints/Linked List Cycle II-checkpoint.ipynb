{
 "cells": [
  {
   "cell_type": "code",
   "execution_count": null,
   "metadata": {},
   "outputs": [],
   "source": [
    "# Definition for singly-linked list.\n",
    "# class ListNode(object):\n",
    "#     def __init__(self, x):\n",
    "#         self.val = x\n",
    "#         self.next = None\n",
    "\n",
    "class Solution(object):\n",
    "# Using tortoise and hare\n",
    "    def detectCycle(self, head):\n",
    "        if not head:\n",
    "            return None\n",
    "\n",
    "        if not head.next:\n",
    "            return None\n",
    "\n",
    "        slow = head\n",
    "        fast = head\n",
    "\n",
    "        while fast and fast.next:\n",
    "            slow = slow.next\n",
    "            fast = fast.next.next\n",
    "\n",
    "            if slow == fast:\n",
    "                break\n",
    "            else:      \n",
    "                return None\n",
    "\n",
    "        while head!=slow:\n",
    "            slow = slow.next\n",
    "            head = head.next\n",
    "\n",
    "        return head\n",
    "\n",
    "\n",
    "\n",
    "# Using normal list\n",
    "#     def detectCycle(self, head):\n",
    "#         \"\"\"\n",
    "#         :type head: ListNode\n",
    "#         :rtype: ListNode\n",
    "#         \"\"\"\n",
    "#         visited = []\n",
    "\n",
    "#         temp = head\n",
    "#         while temp:\n",
    "#             if temp in visited:\n",
    "#                 return temp\n",
    "#             else:\n",
    "#                 visited.append(temp)\n",
    "#                 temp = temp.next\n",
    "\n",
    "#         return None"
   ]
  }
 ],
 "metadata": {
  "kernelspec": {
   "display_name": "Python 3",
   "language": "python",
   "name": "python3"
  },
  "language_info": {
   "codemirror_mode": {
    "name": "ipython",
    "version": 3
   },
   "file_extension": ".py",
   "mimetype": "text/x-python",
   "name": "python",
   "nbconvert_exporter": "python",
   "pygments_lexer": "ipython3",
   "version": "3.6.8"
  }
 },
 "nbformat": 4,
 "nbformat_minor": 2
}
