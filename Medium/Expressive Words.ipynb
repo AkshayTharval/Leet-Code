{
 "cells": [
  {
   "cell_type": "code",
   "execution_count": 13,
   "metadata": {},
   "outputs": [],
   "source": [
    "import itertools\n",
    "def expressiveWords(S, words):\n",
    "    def RLE(S):\n",
    "        return zip(*[(k, len(list(grp)))\n",
    "                     for k, grp in itertools.groupby(S)])\n",
    "\n",
    "    R, count = RLE(S)\n",
    "    print(R)\n",
    "    print(count)\n",
    "    ans = 0\n",
    "    for word in words:\n",
    "        R2, count2 = RLE(word)\n",
    "        if R2 != R: continue\n",
    "        ans += all(c1 >= max(c2, 3) or c1 == c2\n",
    "                   for c1, c2 in zip(count, count2))\n",
    "\n",
    "    return ans"
   ]
  },
  {
   "cell_type": "code",
   "execution_count": 14,
   "metadata": {},
   "outputs": [
    {
     "name": "stdout",
     "output_type": "stream",
     "text": [
      "('h', 'e', 'l', 'o')\n",
      "(1, 3, 2, 3)\n"
     ]
    },
    {
     "data": {
      "text/plain": [
       "1"
      ]
     },
     "execution_count": 14,
     "metadata": {},
     "output_type": "execute_result"
    }
   ],
   "source": [
    "S = \"heeellooo\"\n",
    "words = [\"hello\", \"hi\", \"helo\"]\n",
    "expressiveWords(S, words)"
   ]
  },
  {
   "cell_type": "code",
   "execution_count": 15,
   "metadata": {},
   "outputs": [],
   "source": [
    "all??"
   ]
  },
  {
   "cell_type": "code",
   "execution_count": null,
   "metadata": {},
   "outputs": [],
   "source": []
  },
  {
   "cell_type": "code",
   "execution_count": null,
   "metadata": {},
   "outputs": [],
   "source": []
  },
  {
   "cell_type": "code",
   "execution_count": null,
   "metadata": {},
   "outputs": [],
   "source": []
  }
 ],
 "metadata": {
  "kernelspec": {
   "display_name": "Python 3",
   "language": "python",
   "name": "python3"
  },
  "language_info": {
   "codemirror_mode": {
    "name": "ipython",
    "version": 3
   },
   "file_extension": ".py",
   "mimetype": "text/x-python",
   "name": "python",
   "nbconvert_exporter": "python",
   "pygments_lexer": "ipython3",
   "version": "3.6.8"
  }
 },
 "nbformat": 4,
 "nbformat_minor": 2
}
