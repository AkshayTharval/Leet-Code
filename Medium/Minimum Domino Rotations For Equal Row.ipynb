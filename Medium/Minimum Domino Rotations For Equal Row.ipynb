{
 "cells": [
  {
   "cell_type": "code",
   "execution_count": 18,
   "metadata": {},
   "outputs": [],
   "source": [
    "from collections import Counter\n",
    "def minDominoRotations(A, B):\n",
    "    \"\"\"\n",
    "    :type A: List[int]\n",
    "    :type B: List[int]\n",
    "    :rtype: int\n",
    "    \"\"\"\n",
    "    cnt = Counter()\n",
    "    \n",
    "    modified_list = []\n",
    "    for i in range(len(A)):\n",
    "        if A[i] != B[i]:\n",
    "            modified_list.append(A[i])\n",
    "            modified_list.append(B[i])\n",
    "        else:\n",
    "            modified_list.append(A[i])\n",
    "    \n",
    "    for i in range(len(modified_list)):\n",
    "        cnt[modified_list[i]] += 1\n",
    "    \n",
    "    if cnt.most_common(1)[0][1] < len(A):\n",
    "        return -1\n",
    "    common = cnt.most_common(1)[0][0]\n",
    "    \n",
    "    if A.count(common) >= B.count(common):\n",
    "        return len(A) - A.count(common)\n",
    "    else:\n",
    "        return len(B) - B.count(common)\n"
   ]
  },
  {
   "cell_type": "code",
   "execution_count": 19,
   "metadata": {},
   "outputs": [
    {
     "data": {
      "text/plain": [
       "-1"
      ]
     },
     "execution_count": 19,
     "metadata": {},
     "output_type": "execute_result"
    }
   ],
   "source": [
    "A = [3,5,1,2,3]\n",
    "B = [3,6,3,3,4]\n",
    "minDominoRotations(A, B)"
   ]
  },
  {
   "cell_type": "code",
   "execution_count": 8,
   "metadata": {},
   "outputs": [
    {
     "data": {
      "text/plain": [
       "2"
      ]
     },
     "execution_count": 8,
     "metadata": {},
     "output_type": "execute_result"
    }
   ],
   "source": [
    "a[0][0]"
   ]
  },
  {
   "cell_type": "code",
   "execution_count": null,
   "metadata": {},
   "outputs": [],
   "source": []
  },
  {
   "cell_type": "code",
   "execution_count": null,
   "metadata": {},
   "outputs": [],
   "source": []
  },
  {
   "cell_type": "code",
   "execution_count": null,
   "metadata": {},
   "outputs": [],
   "source": []
  },
  {
   "cell_type": "code",
   "execution_count": null,
   "metadata": {},
   "outputs": [],
   "source": []
  }
 ],
 "metadata": {
  "kernelspec": {
   "display_name": "Python 3",
   "language": "python",
   "name": "python3"
  },
  "language_info": {
   "codemirror_mode": {
    "name": "ipython",
    "version": 3
   },
   "file_extension": ".py",
   "mimetype": "text/x-python",
   "name": "python",
   "nbconvert_exporter": "python",
   "pygments_lexer": "ipython3",
   "version": "3.6.8"
  }
 },
 "nbformat": 4,
 "nbformat_minor": 2
}
