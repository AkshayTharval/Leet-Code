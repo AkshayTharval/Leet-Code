{
 "cells": [
  {
   "cell_type": "code",
   "execution_count": 57,
   "metadata": {},
   "outputs": [],
   "source": [
    "def longestPalindrome(s):\n",
    "\n",
    "    if len(s) == 1 or len(s) == 0:\n",
    "        return s\n",
    "\n",
    "    if len(s) == 2 and s[0] != s[1]:\n",
    "        return s[0]\n",
    "\n",
    "    if len(set(s)) == 1:\n",
    "        return s\n",
    "\n",
    "    max_len = 0\n",
    "    current_pal = ''\n",
    "\n",
    "    for i in range(len(s)):\n",
    "        current_letter = s[i]\n",
    "\n",
    "        if s[i] not in s[i+1:]:\n",
    "            continue\n",
    "        next_occ = s[i+1:][::-1].index(s[i])\n",
    "        next_occ = len(s[i+1:]) - next_occ -1\n",
    "\n",
    "        if s[i:i+next_occ+2] == s[i:i+next_occ+2][::-1] and i+next_occ+2 - i > max_len:\n",
    "            current_pal = s[i:i+next_occ+2]\n",
    "            max_len = i+next_occ+2 - i\n",
    "\n",
    "    if current_pal == '':\n",
    "        current_pal = s[0]\n",
    "    return current_pal\n"
   ]
  },
  {
   "cell_type": "code",
   "execution_count": 26,
   "metadata": {},
   "outputs": [],
   "source": [
    "def longestPalindrome(s):\n",
    "    output = ''\n",
    "    \n",
    "    # Going from chr 0 to len(s)\n",
    "    for i in range(len(s)):\n",
    "        \n",
    "        # Going from len(s) to i in reverse\n",
    "        for j in range(len(s), i, -1):\n",
    "            \n",
    "            # If length of i to j is less than current string's length, break\n",
    "            if len(output) >= j-i:\n",
    "                break\n",
    "            \n",
    "            # If string ith char to jth char is equal to its reverse, then thats the new palindrome\n",
    "            elif s[i:j] == s[i:j][::-1]:\n",
    "                output = s[i:j]\n",
    "  \n",
    "    return output"
   ]
  },
  {
   "cell_type": "code",
   "execution_count": 30,
   "metadata": {},
   "outputs": [
    {
     "data": {
      "text/plain": [
       "'anana'"
      ]
     },
     "execution_count": 30,
     "metadata": {},
     "output_type": "execute_result"
    }
   ],
   "source": [
    "longestPalindrome(\"banana\")"
   ]
  },
  {
   "cell_type": "code",
   "execution_count": null,
   "metadata": {},
   "outputs": [],
   "source": []
  },
  {
   "cell_type": "code",
   "execution_count": null,
   "metadata": {},
   "outputs": [],
   "source": []
  },
  {
   "cell_type": "code",
   "execution_count": null,
   "metadata": {},
   "outputs": [],
   "source": []
  },
  {
   "cell_type": "code",
   "execution_count": null,
   "metadata": {},
   "outputs": [],
   "source": []
  },
  {
   "cell_type": "code",
   "execution_count": null,
   "metadata": {},
   "outputs": [],
   "source": []
  },
  {
   "cell_type": "code",
   "execution_count": null,
   "metadata": {},
   "outputs": [],
   "source": []
  },
  {
   "cell_type": "code",
   "execution_count": null,
   "metadata": {},
   "outputs": [],
   "source": []
  }
 ],
 "metadata": {
  "kernelspec": {
   "display_name": "Python (tensorflow_gpu)",
   "language": "python",
   "name": "myenv"
  },
  "language_info": {
   "codemirror_mode": {
    "name": "ipython",
    "version": 3
   },
   "file_extension": ".py",
   "mimetype": "text/x-python",
   "name": "python",
   "nbconvert_exporter": "python",
   "pygments_lexer": "ipython3",
   "version": "3.6.8"
  }
 },
 "nbformat": 4,
 "nbformat_minor": 2
}
